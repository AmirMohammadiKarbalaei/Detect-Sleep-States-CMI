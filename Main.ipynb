{
 "cells": [
  {
   "cell_type": "code",
   "execution_count": 1,
   "metadata": {},
   "outputs": [],
   "source": [
    "import pandas as pd\n",
    "import numpy as np\n",
    "from Utils import *"
   ]
  },
  {
   "cell_type": "code",
   "execution_count": 2,
   "metadata": {},
   "outputs": [],
   "source": [
    "data_folder = 'C:\\\\Users\\\\amoha\\\\Detect-Sleep-States-CMI-data\\\\'\n",
    "series = \"train_series.parquet\"\n",
    "events = \"train_events.csv\"\n",
    "\n",
    "\n",
    "train_series = pd.read_parquet(data_folder+series)\n",
    "train_events = pd.read_csv(data_folder+events)\n"
   ]
  },
  {
   "cell_type": "code",
   "execution_count": 3,
   "metadata": {},
   "outputs": [],
   "source": [
    "train_series = train_series[:100000]"
   ]
  },
  {
   "cell_type": "code",
   "execution_count": 4,
   "metadata": {},
   "outputs": [],
   "source": [
    "# null_values = train_events.isnull()\n",
    "# null_counts = null_values.sum()\n",
    "# Title = \"Number of Null Values in Each Column of events\"\n",
    "# plot(null_counts,\"bar\",Title)\n",
    "\n",
    "# null_values = train_series.isnull()\n",
    "# null_counts = null_values.sum()\n",
    "# Title = \"Number of Null Values in Each Column of series\"\n",
    "# plot(null_counts,\"bar\",Title)"
   ]
  },
  {
   "cell_type": "code",
   "execution_count": 5,
   "metadata": {},
   "outputs": [
    {
     "name": "stdout",
     "output_type": "stream",
     "text": [
      "There are 7 days of data in the dataset\n"
     ]
    },
    {
     "data": {
      "text/html": [
       "<div>\n",
       "<style scoped>\n",
       "    .dataframe tbody tr th:only-of-type {\n",
       "        vertical-align: middle;\n",
       "    }\n",
       "\n",
       "    .dataframe tbody tr th {\n",
       "        vertical-align: top;\n",
       "    }\n",
       "\n",
       "    .dataframe thead th {\n",
       "        text-align: right;\n",
       "    }\n",
       "</style>\n",
       "<table border=\"1\" class=\"dataframe\">\n",
       "  <thead>\n",
       "    <tr style=\"text-align: right;\">\n",
       "      <th></th>\n",
       "      <th>series_id</th>\n",
       "      <th>night</th>\n",
       "      <th>event</th>\n",
       "      <th>step</th>\n",
       "      <th>timestamp</th>\n",
       "      <th>date</th>\n",
       "      <th>star_hr</th>\n",
       "      <th>end_hr</th>\n",
       "    </tr>\n",
       "  </thead>\n",
       "  <tbody>\n",
       "    <tr>\n",
       "      <th>0</th>\n",
       "      <td>038441c925bb</td>\n",
       "      <td>1</td>\n",
       "      <td>onset</td>\n",
       "      <td>4992.0</td>\n",
       "      <td>2018-08-14T22:26:00-0400</td>\n",
       "      <td>2018-08-14</td>\n",
       "      <td>22:26</td>\n",
       "      <td>04:00</td>\n",
       "    </tr>\n",
       "    <tr>\n",
       "      <th>1</th>\n",
       "      <td>038441c925bb</td>\n",
       "      <td>1</td>\n",
       "      <td>wakeup</td>\n",
       "      <td>10932.0</td>\n",
       "      <td>2018-08-15T06:41:00-0400</td>\n",
       "      <td>2018-08-15</td>\n",
       "      <td>06:41</td>\n",
       "      <td>04:00</td>\n",
       "    </tr>\n",
       "    <tr>\n",
       "      <th>2</th>\n",
       "      <td>038441c925bb</td>\n",
       "      <td>2</td>\n",
       "      <td>onset</td>\n",
       "      <td>20244.0</td>\n",
       "      <td>2018-08-15T19:37:00-0400</td>\n",
       "      <td>2018-08-15</td>\n",
       "      <td>19:37</td>\n",
       "      <td>04:00</td>\n",
       "    </tr>\n",
       "    <tr>\n",
       "      <th>3</th>\n",
       "      <td>038441c925bb</td>\n",
       "      <td>2</td>\n",
       "      <td>wakeup</td>\n",
       "      <td>27492.0</td>\n",
       "      <td>2018-08-16T05:41:00-0400</td>\n",
       "      <td>2018-08-16</td>\n",
       "      <td>05:41</td>\n",
       "      <td>04:00</td>\n",
       "    </tr>\n",
       "    <tr>\n",
       "      <th>4</th>\n",
       "      <td>038441c925bb</td>\n",
       "      <td>3</td>\n",
       "      <td>onset</td>\n",
       "      <td>39996.0</td>\n",
       "      <td>2018-08-16T23:03:00-0400</td>\n",
       "      <td>2018-08-16</td>\n",
       "      <td>23:03</td>\n",
       "      <td>04:00</td>\n",
       "    </tr>\n",
       "    <tr>\n",
       "      <th>...</th>\n",
       "      <td>...</td>\n",
       "      <td>...</td>\n",
       "      <td>...</td>\n",
       "      <td>...</td>\n",
       "      <td>...</td>\n",
       "      <td>...</td>\n",
       "      <td>...</td>\n",
       "      <td>...</td>\n",
       "    </tr>\n",
       "    <tr>\n",
       "      <th>14501</th>\n",
       "      <td>fe90110788d2</td>\n",
       "      <td>32</td>\n",
       "      <td>wakeup</td>\n",
       "      <td>547152.0</td>\n",
       "      <td>2017-09-05T09:26:00-0400</td>\n",
       "      <td>2017-09-05</td>\n",
       "      <td>09:26</td>\n",
       "      <td>04:00</td>\n",
       "    </tr>\n",
       "    <tr>\n",
       "      <th>14502</th>\n",
       "      <td>fe90110788d2</td>\n",
       "      <td>33</td>\n",
       "      <td>onset</td>\n",
       "      <td>556560.0</td>\n",
       "      <td>2017-09-05T22:30:00-0400</td>\n",
       "      <td>2017-09-05</td>\n",
       "      <td>22:30</td>\n",
       "      <td>04:00</td>\n",
       "    </tr>\n",
       "    <tr>\n",
       "      <th>14503</th>\n",
       "      <td>fe90110788d2</td>\n",
       "      <td>33</td>\n",
       "      <td>wakeup</td>\n",
       "      <td>560604.0</td>\n",
       "      <td>2017-09-06T04:07:00-0400</td>\n",
       "      <td>2017-09-06</td>\n",
       "      <td>04:07</td>\n",
       "      <td>04:00</td>\n",
       "    </tr>\n",
       "    <tr>\n",
       "      <th>14504</th>\n",
       "      <td>fe90110788d2</td>\n",
       "      <td>34</td>\n",
       "      <td>onset</td>\n",
       "      <td>574620.0</td>\n",
       "      <td>2017-09-06T23:35:00-0400</td>\n",
       "      <td>2017-09-06</td>\n",
       "      <td>23:35</td>\n",
       "      <td>04:00</td>\n",
       "    </tr>\n",
       "    <tr>\n",
       "      <th>14505</th>\n",
       "      <td>fe90110788d2</td>\n",
       "      <td>34</td>\n",
       "      <td>wakeup</td>\n",
       "      <td>581604.0</td>\n",
       "      <td>2017-09-07T09:17:00-0400</td>\n",
       "      <td>2017-09-07</td>\n",
       "      <td>09:17</td>\n",
       "      <td>04:00</td>\n",
       "    </tr>\n",
       "  </tbody>\n",
       "</table>\n",
       "<p>9585 rows × 8 columns</p>\n",
       "</div>"
      ],
      "text/plain": [
       "          series_id  night   event      step                 timestamp  \\\n",
       "0      038441c925bb      1   onset    4992.0  2018-08-14T22:26:00-0400   \n",
       "1      038441c925bb      1  wakeup   10932.0  2018-08-15T06:41:00-0400   \n",
       "2      038441c925bb      2   onset   20244.0  2018-08-15T19:37:00-0400   \n",
       "3      038441c925bb      2  wakeup   27492.0  2018-08-16T05:41:00-0400   \n",
       "4      038441c925bb      3   onset   39996.0  2018-08-16T23:03:00-0400   \n",
       "...             ...    ...     ...       ...                       ...   \n",
       "14501  fe90110788d2     32  wakeup  547152.0  2017-09-05T09:26:00-0400   \n",
       "14502  fe90110788d2     33   onset  556560.0  2017-09-05T22:30:00-0400   \n",
       "14503  fe90110788d2     33  wakeup  560604.0  2017-09-06T04:07:00-0400   \n",
       "14504  fe90110788d2     34   onset  574620.0  2017-09-06T23:35:00-0400   \n",
       "14505  fe90110788d2     34  wakeup  581604.0  2017-09-07T09:17:00-0400   \n",
       "\n",
       "             date star_hr end_hr  \n",
       "0      2018-08-14   22:26  04:00  \n",
       "1      2018-08-15   06:41  04:00  \n",
       "2      2018-08-15   19:37  04:00  \n",
       "3      2018-08-16   05:41  04:00  \n",
       "4      2018-08-16   23:03  04:00  \n",
       "...           ...     ...    ...  \n",
       "14501  2017-09-05   09:26  04:00  \n",
       "14502  2017-09-05   22:30  04:00  \n",
       "14503  2017-09-06   04:07  04:00  \n",
       "14504  2017-09-06   23:35  04:00  \n",
       "14505  2017-09-07   09:17  04:00  \n",
       "\n",
       "[9585 rows x 8 columns]"
      ]
     },
     "execution_count": 5,
     "metadata": {},
     "output_type": "execute_result"
    }
   ],
   "source": [
    "train_series[\"date\"] = train_series[\"timestamp\"].apply(lambda x: x[:10])\n",
    "train_series[\"hour\"] = train_series[\"timestamp\"].apply(lambda x: x[11:16])\n",
    "\n",
    "\n",
    "cleaned_train = train_events.dropna(subset=['timestamp']).copy()\n",
    "\n",
    "\n",
    "cleaned_train[\"date\"] = cleaned_train[\"timestamp\"].apply(lambda x: x[:10])\n",
    "cleaned_train[\"star_hr\"] = cleaned_train[\"timestamp\"].apply(lambda x: x[11:16])\n",
    "cleaned_train[\"end_hr\"] = cleaned_train[\"timestamp\"].apply(lambda x: x[20:])\n",
    "cleaned_train[\"end_hr\"] = cleaned_train[\"end_hr\"].apply(lambda x: x[:2] + ':' + x[2:])\n",
    "\n",
    "\n",
    "\n",
    "num_days = len(train_series.date.unique())\n",
    "print(f\"There are {num_days} days of data in the dataset\")\n",
    "\n",
    "cleaned_train\n"
   ]
  },
  {
   "cell_type": "code",
   "execution_count": 6,
   "metadata": {},
   "outputs": [],
   "source": [
    "cleaned_train = cleaned_train.sort_values(by='night')\n",
    "cleaned_train = cleaned_train.reset_index(drop=True)"
   ]
  },
  {
   "cell_type": "code",
   "execution_count": 7,
   "metadata": {},
   "outputs": [
    {
     "data": {
      "text/plain": [
       "700"
      ]
     },
     "execution_count": 7,
     "metadata": {},
     "output_type": "execute_result"
    }
   ],
   "source": [
    "len(cleaned_train.date.unique())"
   ]
  },
  {
   "cell_type": "code",
   "execution_count": 8,
   "metadata": {},
   "outputs": [],
   "source": [
    "onset_data = cleaned_train[cleaned_train.event == \"onset\"]\n",
    "wakeup_data = cleaned_train[cleaned_train.event == \"wakeup\"]\n",
    "onset_data = onset_data.reset_index()\n",
    "wakeup_data = wakeup_data.reset_index()"
   ]
  },
  {
   "cell_type": "code",
   "execution_count": 9,
   "metadata": {},
   "outputs": [],
   "source": [
    "onset_data['date'] = pd.to_datetime(onset_data['date']).copy()\n",
    "onset_data['star_hr'] = pd.to_datetime(onset_data['star_hr']).dt.time\n",
    "onset_data['end_hr'] = pd.to_datetime(onset_data['end_hr']).dt.time\n",
    "\n",
    "\n",
    "train_series['timestamp'] = pd.to_datetime(train_series['timestamp']).dt.time\n",
    "train_series['date'] = pd.to_datetime(train_series['date']).dt.time\n",
    "\n",
    "train_series['hour'] = pd.to_datetime(train_series['hour']).dt.time"
   ]
  },
  {
   "cell_type": "code",
   "execution_count": 13,
   "metadata": {},
   "outputs": [],
   "source": []
  },
  {
   "cell_type": "code",
   "execution_count": 15,
   "metadata": {},
   "outputs": [],
   "source": [
    "onset = []\n",
    "for idx,date in enumerate(onset_data.date):\n",
    "    start = onset_data.star_hr[idx]\n",
    "    end = onset_data.end_hr[idx]\n",
    "    series_id = onset_data.series_id[idx]\n",
    "    extracted_subset = train_series[\n",
    "        (train_series['series_id'] == series_id) &\n",
    "        (train_series['hour'] >= start) &    # Start hour condition\n",
    "        (train_series['hour'] <= end)       # End hour condition\n",
    "    ]\n",
    "    onset.append(extracted_subset)"
   ]
  }
 ],
 "metadata": {
  "kernelspec": {
   "display_name": "base",
   "language": "python",
   "name": "python3"
  },
  "language_info": {
   "codemirror_mode": {
    "name": "ipython",
    "version": 3
   },
   "file_extension": ".py",
   "mimetype": "text/x-python",
   "name": "python",
   "nbconvert_exporter": "python",
   "pygments_lexer": "ipython3",
   "version": "3.9.7"
  },
  "orig_nbformat": 4
 },
 "nbformat": 4,
 "nbformat_minor": 2
}
