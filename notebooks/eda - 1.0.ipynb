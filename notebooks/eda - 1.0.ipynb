{
 "cells": [
  {
   "cell_type": "markdown",
   "metadata": {},
   "source": [
    "# EDA - 1.0"
   ]
  },
  {
   "cell_type": "markdown",
   "metadata": {},
   "source": [
    "## Imports"
   ]
  },
  {
   "cell_type": "code",
   "execution_count": 1,
   "metadata": {},
   "outputs": [],
   "source": [
    "import pandas as pd\n",
    "import numpy as np\n",
    "from Utils import *"
   ]
  },
  {
   "cell_type": "markdown",
   "metadata": {},
   "source": [
    "## Data Loading"
   ]
  },
  {
   "cell_type": "code",
   "execution_count": 2,
   "metadata": {},
   "outputs": [],
   "source": [
    "data_folder = '..\\\\data\\\\raw\\\\'\n",
    "series = \"train_series.parquet\"\n",
    "events = \"train_events.csv\"\n",
    "\n",
    "train_series = pd.read_parquet(data_folder+series)\n",
    "train_events = pd.read_csv(data_folder+events)"
   ]
  },
  {
   "cell_type": "code",
   "execution_count": 3,
   "metadata": {},
   "outputs": [
    {
     "data": {
      "text/html": [
       "<div>\n",
       "<style scoped>\n",
       "    .dataframe tbody tr th:only-of-type {\n",
       "        vertical-align: middle;\n",
       "    }\n",
       "\n",
       "    .dataframe tbody tr th {\n",
       "        vertical-align: top;\n",
       "    }\n",
       "\n",
       "    .dataframe thead th {\n",
       "        text-align: right;\n",
       "    }\n",
       "</style>\n",
       "<table border=\"1\" class=\"dataframe\">\n",
       "  <thead>\n",
       "    <tr style=\"text-align: right;\">\n",
       "      <th></th>\n",
       "      <th>series_id</th>\n",
       "      <th>step</th>\n",
       "      <th>timestamp</th>\n",
       "      <th>anglez</th>\n",
       "      <th>enmo</th>\n",
       "    </tr>\n",
       "  </thead>\n",
       "  <tbody>\n",
       "    <tr>\n",
       "      <th>0</th>\n",
       "      <td>038441c925bb</td>\n",
       "      <td>0</td>\n",
       "      <td>2018-08-14T15:30:00-0400</td>\n",
       "      <td>2.6367</td>\n",
       "      <td>0.0217</td>\n",
       "    </tr>\n",
       "    <tr>\n",
       "      <th>1</th>\n",
       "      <td>038441c925bb</td>\n",
       "      <td>1</td>\n",
       "      <td>2018-08-14T15:30:05-0400</td>\n",
       "      <td>2.6368</td>\n",
       "      <td>0.0215</td>\n",
       "    </tr>\n",
       "    <tr>\n",
       "      <th>2</th>\n",
       "      <td>038441c925bb</td>\n",
       "      <td>2</td>\n",
       "      <td>2018-08-14T15:30:10-0400</td>\n",
       "      <td>2.6370</td>\n",
       "      <td>0.0216</td>\n",
       "    </tr>\n",
       "    <tr>\n",
       "      <th>3</th>\n",
       "      <td>038441c925bb</td>\n",
       "      <td>3</td>\n",
       "      <td>2018-08-14T15:30:15-0400</td>\n",
       "      <td>2.6368</td>\n",
       "      <td>0.0213</td>\n",
       "    </tr>\n",
       "    <tr>\n",
       "      <th>4</th>\n",
       "      <td>038441c925bb</td>\n",
       "      <td>4</td>\n",
       "      <td>2018-08-14T15:30:20-0400</td>\n",
       "      <td>2.6368</td>\n",
       "      <td>0.0215</td>\n",
       "    </tr>\n",
       "  </tbody>\n",
       "</table>\n",
       "</div>"
      ],
      "text/plain": [
       "      series_id  step                 timestamp  anglez    enmo\n",
       "0  038441c925bb     0  2018-08-14T15:30:00-0400  2.6367  0.0217\n",
       "1  038441c925bb     1  2018-08-14T15:30:05-0400  2.6368  0.0215\n",
       "2  038441c925bb     2  2018-08-14T15:30:10-0400  2.6370  0.0216\n",
       "3  038441c925bb     3  2018-08-14T15:30:15-0400  2.6368  0.0213\n",
       "4  038441c925bb     4  2018-08-14T15:30:20-0400  2.6368  0.0215"
      ]
     },
     "execution_count": 3,
     "metadata": {},
     "output_type": "execute_result"
    }
   ],
   "source": [
    "train_series.head()"
   ]
  },
  {
   "cell_type": "code",
   "execution_count": 4,
   "metadata": {},
   "outputs": [
    {
     "name": "stdout",
     "output_type": "stream",
     "text": [
      "1.545074462890625\n",
      "Index           128\n",
      "series_id    690000\n",
      "step          40000\n",
      "timestamp    810000\n",
      "anglez        40000\n",
      "enmo          40000\n",
      "dtype: int64\n",
      "--------------------------\n",
      "series_id     object\n",
      "step          uint32\n",
      "timestamp     object\n",
      "anglez       float32\n",
      "enmo         float32\n",
      "dtype: object\n"
     ]
    }
   ],
   "source": [
    "memory_test = train_series[:10000]\n",
    "print(memory_test.memory_usage(deep=True).sum() / (1024 * 1024))\n",
    "print(memory_test.memory_usage(deep=True))\n",
    "print('--------------------------')\n",
    "print(memory_test.dtypes)"
   ]
  },
  {
   "cell_type": "code",
   "execution_count": 5,
   "metadata": {},
   "outputs": [],
   "source": [
    "# unique_series_ids = np.unique(train_series.series_id)\n",
    "\n",
    "# train_id_map = pd.DataFrame({\n",
    "#     \"series_id\": unique_series_ids,\n",
    "#     \"id_map\": np.arange(len(unique_series_ids), dtype=np.uint16)\n",
    "# })\n",
    "\n",
    "# train_id_map.to_parquet(\"../data/train_id_map.parquet\", index=False)"
   ]
  },
  {
   "cell_type": "code",
   "execution_count": 6,
   "metadata": {},
   "outputs": [],
   "source": [
    "folder = '..\\\\data\\\\'\n",
    "id_map = \"train_id_map.parquet\"\n",
    "\n",
    "train_id_map = pd.read_parquet(folder+id_map)"
   ]
  },
  {
   "cell_type": "code",
   "execution_count": 7,
   "metadata": {},
   "outputs": [],
   "source": [
    "# train_series = train_series.merge(train_id_map, on='series_id', how='left')\n",
    "\n",
    "# train_series = train_series.drop(columns=['series_id'])\n",
    "\n",
    "# train_series = train_series.rename(columns={'id_map': 'series_id'})\n",
    "train_series = transform_and_rename_dataframe(train_series, train_id_map, 'series_id', ['series_id'], {'id_map': 'series_id'})\n",
    "\n",
    "#train_series.timestamp = pd.to_datetime(train_series.timestamp) #waited for 40 minutes but it was still running"
   ]
  },
  {
   "cell_type": "code",
   "execution_count": 8,
   "metadata": {},
   "outputs": [
    {
     "data": {
      "text/plain": [
       "'2018-08-14T15:30:00-0400'"
      ]
     },
     "execution_count": 8,
     "metadata": {},
     "output_type": "execute_result"
    }
   ],
   "source": [
    "series_chunk = train_series[:100000]\n",
    "series_chunk.timestamp[0]"
   ]
  },
  {
   "cell_type": "code",
   "execution_count": 9,
   "metadata": {},
   "outputs": [
    {
     "name": "stdout",
     "output_type": "stream",
     "text": [
      "0.286102294921875\n",
      "Index        80000\n",
      "step         40000\n",
      "timestamp    80000\n",
      "anglez       40000\n",
      "enmo         40000\n",
      "series_id    20000\n",
      "dtype: int64\n",
      "--------------------------\n",
      "step                                         uint32\n",
      "timestamp    datetime64[ns, pytz.FixedOffset(-240)]\n",
      "anglez                                      float32\n",
      "enmo                                        float32\n",
      "series_id                                    uint16\n",
      "dtype: object\n"
     ]
    }
   ],
   "source": [
    "memory_test_processed = train_series[:10000].copy()\n",
    "\n",
    "# memory_test_processed.anglez = memory_test_processed.anglez.astype(np.float16)\n",
    "# memory_test_processed.enmo = memory_test_processed.enmo.astype(np.float16)\n",
    "memory_test_processed.timestamp = pd.to_datetime(memory_test_processed.timestamp)\n",
    "\n",
    "# Check memory usage and data types\n",
    "print(memory_test_processed.memory_usage(deep=True).sum() / (1024 * 1024))\n",
    "print(memory_test_processed.memory_usage(deep=True))\n",
    "print('--------------------------')\n",
    "print(memory_test_processed.dtypes)"
   ]
  },
  {
   "cell_type": "markdown",
   "metadata": {},
   "source": [
    "## Data Processing"
   ]
  },
  {
   "cell_type": "markdown",
   "metadata": {},
   "source": [
    "### Duplicate/Null Values"
   ]
  },
  {
   "cell_type": "code",
   "execution_count": 10,
   "metadata": {},
   "outputs": [
    {
     "data": {
      "image/png": "[encoded data removed]",
      "text/plain": [
       "<Figure size 1200x800 with 1 Axes>"
      ]
     },
     "metadata": {},
     "output_type": "display_data"
    },
    {
     "data": {
      "image/png": "[encoded data removed]",
      "text/plain": [
       "<Figure size 1200x800 with 1 Axes>"
      ]
     },
     "metadata": {},
     "output_type": "display_data"
    }
   ],
   "source": [
    "null_values = train_events.isnull()\n",
    "null_counts = null_values.sum()\n",
    "Title = \"Number of Null Values in Each Column of events\"\n",
    "plot(null_counts,\"bar\",Title)\n",
    "\n",
    "null_values = train_series.isnull()\n",
    "null_counts = null_values.sum()\n",
    "Title = \"Number of Null Values in Each Column of series\"\n",
    "plot(null_counts,\"bar\",Title)"
   ]
  },
  {
   "cell_type": "markdown",
   "metadata": {},
   "source": [
    "### Additional Features"
   ]
  },
  {
   "cell_type": "code",
   "execution_count": 11,
   "metadata": {},
   "outputs": [
    {
     "name": "stderr",
     "output_type": "stream",
     "text": [
      "c:\\Users\\amoha\\Detect-Sleep-States-CMI\\notebooks\\Utils.py:15: SettingWithCopyWarning: \n",
      "A value is trying to be set on a copy of a slice from a DataFrame.\n",
      "Try using .loc[row_indexer,col_indexer] = value instead\n",
      "\n",
      "See the caveats in the documentation: https://pandas.pydata.org/pandas-docs/stable/user_guide/indexing.html#returning-a-view-versus-a-copy\n",
      "  df['date'] = df['timestamp'].str.split('T', expand=True)[0]\n",
      "c:\\Users\\amoha\\Detect-Sleep-States-CMI\\notebooks\\Utils.py:16: SettingWithCopyWarning: \n",
      "A value is trying to be set on a copy of a slice from a DataFrame.\n",
      "Try using .loc[row_indexer,col_indexer] = value instead\n",
      "\n",
      "See the caveats in the documentation: https://pandas.pydata.org/pandas-docs/stable/user_guide/indexing.html#returning-a-view-versus-a-copy\n",
      "  df['time'] = df['timestamp'].str.split('T', expand=True)[1].str.split('-', expand=True)[0]\n",
      "c:\\Users\\amoha\\Detect-Sleep-States-CMI\\notebooks\\Utils.py:17: SettingWithCopyWarning: \n",
      "A value is trying to be set on a copy of a slice from a DataFrame.\n",
      "Try using .loc[row_indexer,col_indexer] = value instead\n",
      "\n",
      "See the caveats in the documentation: https://pandas.pydata.org/pandas-docs/stable/user_guide/indexing.html#returning-a-view-versus-a-copy\n",
      "  df['timestamp'] = pd.to_datetime(df['date']+' '+df['time'])\n",
      "c:\\Users\\amoha\\Detect-Sleep-States-CMI\\notebooks\\Utils.py:18: SettingWithCopyWarning: \n",
      "A value is trying to be set on a copy of a slice from a DataFrame.\n",
      "Try using .loc[row_indexer,col_indexer] = value instead\n",
      "\n",
      "See the caveats in the documentation: https://pandas.pydata.org/pandas-docs/stable/user_guide/indexing.html#returning-a-view-versus-a-copy\n",
      "  df['hour'] = df['timestamp'].dt.hour\n"
     ]
    }
   ],
   "source": [
    "series_chunk = clean_df(series_chunk)\n",
    "train_events = clean_df(train_events)"
   ]
  },
  {
   "cell_type": "code",
   "execution_count": 12,
   "metadata": {},
   "outputs": [
    {
     "name": "stdout",
     "output_type": "stream",
     "text": [
      "3.769376754760742\n",
      "Index            128\n",
      "series_id    1001052\n",
      "night         116064\n",
      "event         906750\n",
      "step          116064\n",
      "timestamp     116064\n",
      "date          799731\n",
      "time          780561\n",
      "hour          116064\n",
      "dtype: int64\n",
      "--------------------------\n",
      "series_id            object\n",
      "night                 int64\n",
      "event                object\n",
      "step                float64\n",
      "timestamp    datetime64[ns]\n",
      "date                 object\n",
      "time                 object\n",
      "hour                float64\n",
      "dtype: object\n"
     ]
    }
   ],
   "source": [
    "print(train_events.memory_usage(deep=True).sum() / (1024 * 1024))\n",
    "print(train_events.memory_usage(deep=True))\n",
    "print('--------------------------')\n",
    "print(train_events.dtypes)"
   ]
  },
  {
   "cell_type": "code",
   "execution_count": 13,
   "metadata": {},
   "outputs": [],
   "source": [
    "new_train_events = train_events.copy()\n",
    "\n",
    "# train_id_map = pd.DataFrame({\n",
    "#     \"series_id\": new_train_events.series_id.unique(),\n",
    "#     \"id_map\": list(new_train_events.series_id.unique()).index\n",
    "# })\n",
    "# # train_id_map.id_map = train_id_map.id_map.astype(np.uint16)\n",
    "# train_id_map.to_parquet(\"../data/train_id_map.parquet\", index=False)\n",
    "\n",
    "new_train_events.night = new_train_events.night.astype(np.uint16)\n",
    "new_train_events.event = new_train_events.event.replace({'onset':'0', 'wakeup':'1'}).astype(np.uint8)\n",
    "# new_train_events.step = new_train_events.step.astype(np.uint32)"
   ]
  },
  {
   "cell_type": "code",
   "execution_count": 14,
   "metadata": {},
   "outputs": [],
   "source": [
    "# new_train_events = new_train_events.merge(train_id_map, on='series_id', how='left')\n",
    "# new_train_events = new_train_events.drop(columns=['series_id'])\n",
    "# new_train_events = new_train_events.rename(columns={'id_map': 'series_id'})\n",
    "new_train_events = transform_and_rename_dataframe(new_train_events, train_id_map, 'series_id', ['series_id'], {'id_map': 'series_id'})\n"
   ]
  },
  {
   "cell_type": "code",
   "execution_count": 15,
   "metadata": {},
   "outputs": [
    {
     "name": "stdout",
     "output_type": "stream",
     "text": [
      "3.769376754760742\n",
      "Index            128\n",
      "series_id    1001052\n",
      "night         116064\n",
      "event         906750\n",
      "step          116064\n",
      "timestamp     116064\n",
      "date          799731\n",
      "time          780561\n",
      "hour          116064\n",
      "dtype: int64\n",
      "--------------------------\n",
      "series_id            object\n",
      "night                 int64\n",
      "event                object\n",
      "step                float64\n",
      "timestamp    datetime64[ns]\n",
      "date                 object\n",
      "time                 object\n",
      "hour                float64\n",
      "dtype: object\n"
     ]
    }
   ],
   "source": [
    "print(train_events.memory_usage(deep=True).sum() / (1024 * 1024))\n",
    "print(train_events.memory_usage(deep=True))\n",
    "print('--------------------------')\n",
    "print(train_events.dtypes)"
   ]
  },
  {
   "cell_type": "code",
   "execution_count": 16,
   "metadata": {},
   "outputs": [
    {
     "name": "stdout",
     "output_type": "stream",
     "text": [
      "2.019012451171875\n",
      "Index        116064\n",
      "night         29016\n",
      "event         14508\n",
      "step         116064\n",
      "timestamp    116064\n",
      "date         799731\n",
      "time         780561\n",
      "hour         116064\n",
      "series_id     29016\n",
      "dtype: int64\n",
      "--------------------------\n",
      "night                uint16\n",
      "event                 uint8\n",
      "step                float64\n",
      "timestamp    datetime64[ns]\n",
      "date                 object\n",
      "time                 object\n",
      "hour                float64\n",
      "series_id            uint16\n",
      "dtype: object\n"
     ]
    }
   ],
   "source": [
    "print(new_train_events.memory_usage(deep=True).sum() / (1024 * 1024))\n",
    "print(new_train_events.memory_usage(deep=True))\n",
    "print('--------------------------')\n",
    "print(new_train_events.dtypes)"
   ]
  },
  {
   "cell_type": "code",
   "execution_count": 123,
   "metadata": {},
   "outputs": [],
   "source": [
    "train = pd.merge(series_chunk, new_train_events[[\"step\", \"event\"]], on=\"step\", how=\"left\")"
   ]
  },
  {
   "cell_type": "code",
   "execution_count": 141,
   "metadata": {},
   "outputs": [],
   "source": [
    "train.event = train.event.bfill(axis = \"rows\")\n",
    "train.event = train.event.fillna(1)\n",
    "train.event = train.event.astype(np.uint8)"
   ]
  },
  {
   "cell_type": "code",
   "execution_count": 143,
   "metadata": {},
   "outputs": [
    {
     "data": {
      "text/html": [
       "<div>\n",
       "<style scoped>\n",
       "    .dataframe tbody tr th:only-of-type {\n",
       "        vertical-align: middle;\n",
       "    }\n",
       "\n",
       "    .dataframe tbody tr th {\n",
       "        vertical-align: top;\n",
       "    }\n",
       "\n",
       "    .dataframe thead th {\n",
       "        text-align: right;\n",
       "    }\n",
       "</style>\n",
       "<table border=\"1\" class=\"dataframe\">\n",
       "  <thead>\n",
       "    <tr style=\"text-align: right;\">\n",
       "      <th></th>\n",
       "      <th>step</th>\n",
       "      <th>timestamp</th>\n",
       "      <th>anglez</th>\n",
       "      <th>enmo</th>\n",
       "      <th>series_id</th>\n",
       "      <th>date</th>\n",
       "      <th>time</th>\n",
       "      <th>hour</th>\n",
       "      <th>event</th>\n",
       "    </tr>\n",
       "  </thead>\n",
       "  <tbody>\n",
       "    <tr>\n",
       "      <th>0</th>\n",
       "      <td>0</td>\n",
       "      <td>2018-08-14 15:30:00</td>\n",
       "      <td>2.636700</td>\n",
       "      <td>0.0217</td>\n",
       "      <td>0</td>\n",
       "      <td>2018-08-14</td>\n",
       "      <td>15:30:00</td>\n",
       "      <td>15</td>\n",
       "      <td>0</td>\n",
       "    </tr>\n",
       "    <tr>\n",
       "      <th>1</th>\n",
       "      <td>1</td>\n",
       "      <td>2018-08-14 15:30:05</td>\n",
       "      <td>2.636800</td>\n",
       "      <td>0.0215</td>\n",
       "      <td>0</td>\n",
       "      <td>2018-08-14</td>\n",
       "      <td>15:30:05</td>\n",
       "      <td>15</td>\n",
       "      <td>0</td>\n",
       "    </tr>\n",
       "    <tr>\n",
       "      <th>2</th>\n",
       "      <td>2</td>\n",
       "      <td>2018-08-14 15:30:10</td>\n",
       "      <td>2.637000</td>\n",
       "      <td>0.0216</td>\n",
       "      <td>0</td>\n",
       "      <td>2018-08-14</td>\n",
       "      <td>15:30:10</td>\n",
       "      <td>15</td>\n",
       "      <td>0</td>\n",
       "    </tr>\n",
       "    <tr>\n",
       "      <th>3</th>\n",
       "      <td>3</td>\n",
       "      <td>2018-08-14 15:30:15</td>\n",
       "      <td>2.636800</td>\n",
       "      <td>0.0213</td>\n",
       "      <td>0</td>\n",
       "      <td>2018-08-14</td>\n",
       "      <td>15:30:15</td>\n",
       "      <td>15</td>\n",
       "      <td>0</td>\n",
       "    </tr>\n",
       "    <tr>\n",
       "      <th>4</th>\n",
       "      <td>4</td>\n",
       "      <td>2018-08-14 15:30:20</td>\n",
       "      <td>2.636800</td>\n",
       "      <td>0.0215</td>\n",
       "      <td>0</td>\n",
       "      <td>2018-08-14</td>\n",
       "      <td>15:30:20</td>\n",
       "      <td>15</td>\n",
       "      <td>0</td>\n",
       "    </tr>\n",
       "    <tr>\n",
       "      <th>...</th>\n",
       "      <td>...</td>\n",
       "      <td>...</td>\n",
       "      <td>...</td>\n",
       "      <td>...</td>\n",
       "      <td>...</td>\n",
       "      <td>...</td>\n",
       "      <td>...</td>\n",
       "      <td>...</td>\n",
       "      <td>...</td>\n",
       "    </tr>\n",
       "    <tr>\n",
       "      <th>100659</th>\n",
       "      <td>99995</td>\n",
       "      <td>2018-08-20 10:22:55</td>\n",
       "      <td>47.771099</td>\n",
       "      <td>0.0057</td>\n",
       "      <td>0</td>\n",
       "      <td>2018-08-20</td>\n",
       "      <td>10:22:55</td>\n",
       "      <td>10</td>\n",
       "      <td>1</td>\n",
       "    </tr>\n",
       "    <tr>\n",
       "      <th>100660</th>\n",
       "      <td>99996</td>\n",
       "      <td>2018-08-20 10:23:00</td>\n",
       "      <td>48.725399</td>\n",
       "      <td>0.0003</td>\n",
       "      <td>0</td>\n",
       "      <td>2018-08-20</td>\n",
       "      <td>10:23:00</td>\n",
       "      <td>10</td>\n",
       "      <td>1</td>\n",
       "    </tr>\n",
       "    <tr>\n",
       "      <th>100661</th>\n",
       "      <td>99997</td>\n",
       "      <td>2018-08-20 10:23:05</td>\n",
       "      <td>48.909401</td>\n",
       "      <td>0.0000</td>\n",
       "      <td>0</td>\n",
       "      <td>2018-08-20</td>\n",
       "      <td>10:23:05</td>\n",
       "      <td>10</td>\n",
       "      <td>1</td>\n",
       "    </tr>\n",
       "    <tr>\n",
       "      <th>100662</th>\n",
       "      <td>99998</td>\n",
       "      <td>2018-08-20 10:23:10</td>\n",
       "      <td>48.777802</td>\n",
       "      <td>0.0001</td>\n",
       "      <td>0</td>\n",
       "      <td>2018-08-20</td>\n",
       "      <td>10:23:10</td>\n",
       "      <td>10</td>\n",
       "      <td>1</td>\n",
       "    </tr>\n",
       "    <tr>\n",
       "      <th>100663</th>\n",
       "      <td>99999</td>\n",
       "      <td>2018-08-20 10:23:15</td>\n",
       "      <td>48.776501</td>\n",
       "      <td>0.0000</td>\n",
       "      <td>0</td>\n",
       "      <td>2018-08-20</td>\n",
       "      <td>10:23:15</td>\n",
       "      <td>10</td>\n",
       "      <td>1</td>\n",
       "    </tr>\n",
       "  </tbody>\n",
       "</table>\n",
       "<p>100664 rows × 9 columns</p>\n",
       "</div>"
      ],
      "text/plain": [
       "         step           timestamp     anglez    enmo  series_id        date  \\\n",
       "0           0 2018-08-14 15:30:00   2.636700  0.0217          0  2018-08-14   \n",
       "1           1 2018-08-14 15:30:05   2.636800  0.0215          0  2018-08-14   \n",
       "2           2 2018-08-14 15:30:10   2.637000  0.0216          0  2018-08-14   \n",
       "3           3 2018-08-14 15:30:15   2.636800  0.0213          0  2018-08-14   \n",
       "4           4 2018-08-14 15:30:20   2.636800  0.0215          0  2018-08-14   \n",
       "...       ...                 ...        ...     ...        ...         ...   \n",
       "100659  99995 2018-08-20 10:22:55  47.771099  0.0057          0  2018-08-20   \n",
       "100660  99996 2018-08-20 10:23:00  48.725399  0.0003          0  2018-08-20   \n",
       "100661  99997 2018-08-20 10:23:05  48.909401  0.0000          0  2018-08-20   \n",
       "100662  99998 2018-08-20 10:23:10  48.777802  0.0001          0  2018-08-20   \n",
       "100663  99999 2018-08-20 10:23:15  48.776501  0.0000          0  2018-08-20   \n",
       "\n",
       "            time  hour  event  \n",
       "0       15:30:00    15      0  \n",
       "1       15:30:05    15      0  \n",
       "2       15:30:10    15      0  \n",
       "3       15:30:15    15      0  \n",
       "4       15:30:20    15      0  \n",
       "...          ...   ...    ...  \n",
       "100659  10:22:55    10      1  \n",
       "100660  10:23:00    10      1  \n",
       "100661  10:23:05    10      1  \n",
       "100662  10:23:10    10      1  \n",
       "100663  10:23:15    10      1  \n",
       "\n",
       "[100664 rows x 9 columns]"
      ]
     },
     "execution_count": 143,
     "metadata": {},
     "output_type": "execute_result"
    }
   ],
   "source": [
    "train"
   ]
  },
  {
   "cell_type": "code",
   "execution_count": 137,
   "metadata": {},
   "outputs": [
    {
     "data": {
      "text/plain": [
       "array(['wakeup'], dtype=object)"
      ]
     },
     "execution_count": 137,
     "metadata": {},
     "output_type": "execute_result"
    }
   ],
   "source": [
    "train_events.groupby(\"series_id\").tail(1)[\"event\"].unique()"
   ]
  }
 ],
 "metadata": {
  "kernelspec": {
   "display_name": "base",
   "language": "python",
   "name": "python3"
  },
  "language_info": {
   "codemirror_mode": {
    "name": "ipython",
    "version": 3
   },
   "file_extension": ".py",
   "mimetype": "text/x-python",
   "name": "python",
   "nbconvert_exporter": "python",
   "pygments_lexer": "ipython3",
   "version": "3.9.7"
  },
  "orig_nbformat": 4
 },
 "nbformat": 4,
 "nbformat_minor": 2
}
